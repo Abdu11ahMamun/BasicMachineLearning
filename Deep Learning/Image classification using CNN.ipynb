{
 "cells": [
  {
   "cell_type": "code",
   "execution_count": null,
   "id": "f659123c",
   "metadata": {},
   "outputs": [],
   "source": [
    "Small Image Classification Using Convolutional Neural Network (CNN)"
   ]
  },
  {
   "cell_type": "code",
   "execution_count": null,
   "id": "4f9db5b7",
   "metadata": {},
   "outputs": [],
   "source": [
    "import tensorflow as tf\n",
    "from tensorflow.keras import datasets, layers, models\n",
    "import matplotlib.pyplot as plt\n",
    "import numpy as np"
   ]
  },
  {
   "cell_type": "code",
   "execution_count": null,
   "id": "fc103b6f",
   "metadata": {},
   "outputs": [],
   "source": [
    "#cifar10 image dataset will load from tensorflow keras datasets\n",
    "#there has 32*32 RGB images X_\n",
    "(X_train, y_train), (X_test,y_test) = datasets.cifar10.load_data()\n",
    "X_train.shape"
   ]
  },
  {
   "cell_type": "code",
   "execution_count": null,
   "id": "2d69de5b",
   "metadata": {},
   "outputs": [],
   "source": [
    "X_test.shape"
   ]
  },
  {
   "cell_type": "code",
   "execution_count": null,
   "id": "aad94de5",
   "metadata": {},
   "outputs": [],
   "source": [
    "Here we see there are 50000 training images and 1000 test images"
   ]
  },
  {
   "cell_type": "code",
   "execution_count": null,
   "id": "08d59884",
   "metadata": {},
   "outputs": [],
   "source": [
    "X_train[0] #this will return a 3D array where the array will be 32,32,3"
   ]
  },
  {
   "cell_type": "code",
   "execution_count": null,
   "id": "44e30717",
   "metadata": {},
   "outputs": [],
   "source": [
    "y_train[:5] #will produce a 2D array "
   ]
  },
  {
   "cell_type": "code",
   "execution_count": null,
   "id": "9cd161d7",
   "metadata": {},
   "outputs": [],
   "source": [
    "#we don't need 2D array of y_train so we will convert it into 1D arrat\n",
    "#here the 1st dimention is 10000 and to keep it as it is we have to pass -1\n",
    "#in the 2nd dimention i don't want [6], instead i want only 6 so i will keep it blank\n",
    "y_train=y_train.reshape(-1,) "
   ]
  },
  {
   "cell_type": "code",
   "execution_count": null,
   "id": "ee1a1f08",
   "metadata": {},
   "outputs": [],
   "source": [
    "y_train[:5] #now it is 1D array"
   ]
  },
  {
   "cell_type": "code",
   "execution_count": null,
   "id": "28c2c147",
   "metadata": {},
   "outputs": [],
   "source": [
    "classes = [\"airplane\",\"automobile\",\"bird\",\"cat\",\"deer\",\"dog\",\"frog\",\"horse\",\"ship\",\"truck\"]"
   ]
  },
  {
   "cell_type": "code",
   "execution_count": null,
   "id": "7243dcc5",
   "metadata": {},
   "outputs": [],
   "source": [
    "plt.figure(figsize= (15,2)) #this control the size of the image\n",
    "plt.imshow(X_train[0]) #this will convert the 3D into image"
   ]
  },
  {
   "cell_type": "code",
   "execution_count": null,
   "id": "64638f1e",
   "metadata": {},
   "outputs": [],
   "source": [
    "#This function is take x and y as index and printing that particular image sample\n",
    "def plot_sample(X, y, index):\n",
    "    plt.figure(figsize = (15,2))\n",
    "    plt.imshow(X[index])\n",
    "    plt.xlabel(classes[y[index]])"
   ]
  },
  {
   "cell_type": "code",
   "execution_count": null,
   "id": "d7f34e81",
   "metadata": {},
   "outputs": [],
   "source": [
    "Normalize the images to a number from 0 to 1. Image has 3 channels (R,G,B) and each value in the channel can range from 0 to 255. Hence to normalize in 0-->1 range, we need to divide it by 255"
   ]
  },
  {
   "cell_type": "code",
   "execution_count": null,
   "id": "ed6f70af",
   "metadata": {},
   "outputs": [],
   "source": [
    " Normalizing the training data"
   ]
  },
  {
   "cell_type": "code",
   "execution_count": null,
   "id": "61382e81",
   "metadata": {},
   "outputs": [],
   "source": [
    "X_train = X_train / 255.0\n",
    "X_test = X_test / 255.0"
   ]
  },
  {
   "cell_type": "code",
   "execution_count": null,
   "id": "9c70a12f",
   "metadata": {},
   "outputs": [],
   "source": [
    "Build simple artificial neural network for image classification"
   ]
  },
  {
   "cell_type": "code",
   "execution_count": null,
   "id": "a9adea78",
   "metadata": {},
   "outputs": [],
   "source": [
    "ann = models.Sequential([\n",
    "        layers.Flatten(input_shape=(32,32,3)),\n",
    "        layers.Dense(3000, activation='relu'),\n",
    "        layers.Dense(1000, activation='relu'),\n",
    "        layers.Dense(10, activation='softmax')    \n",
    "    ])\n",
    "\n",
    "ann.compile(optimizer='SGD',\n",
    "              loss='sparse_categorical_crossentropy',\n",
    "              metrics=['accuracy'])\n",
    "\n",
    "ann.fit(X_train, y_train, epochs=5)"
   ]
  },
  {
   "cell_type": "code",
   "execution_count": null,
   "id": "6d3425ad",
   "metadata": {},
   "outputs": [],
   "source": [
    "ann.evaluate(X_test,y_test)"
   ]
  },
  {
   "cell_type": "code",
   "execution_count": null,
   "id": "517de350",
   "metadata": {},
   "outputs": [],
   "source": [
    "At the end of 5 epochs, accuracy is at around 49% so we can say ANN is not performing good. "
   ]
  },
  {
   "cell_type": "code",
   "execution_count": null,
   "id": "8f594249",
   "metadata": {},
   "outputs": [],
   "source": [
    "from sklearn.metrics import confusion_matrix , classification_report\n",
    "import numpy as np\n",
    "y_pred = ann.predict(X_test)\n",
    "y_pred_classes = [np.argmax(element) for element in y_pred]\n",
    "\n",
    "print(\"Classification Report: \\n\", classification_report(y_test, y_pred_classes))"
   ]
  },
  {
   "cell_type": "code",
   "execution_count": null,
   "id": "bc3e05a8",
   "metadata": {},
   "outputs": [],
   "source": [
    "Now let us build a convolutional neural network to train our images"
   ]
  },
  {
   "cell_type": "code",
   "execution_count": null,
   "id": "17f54a0c",
   "metadata": {},
   "outputs": [],
   "source": [
    "cnn = models.Sequential([\n",
    "    layers.Conv2D(filters=32, kernel_size=(3, 3), activation='relu', input_shape=(32, 32, 3)),\n",
    "    layers.MaxPooling2D((2, 2)),\n",
    "    \n",
    "    layers.Conv2D(filters=64, kernel_size=(3, 3), activation='relu'),\n",
    "    layers.MaxPooling2D((2, 2)),\n",
    "    \n",
    "    #dense\n",
    "    layers.Flatten(),\n",
    "    layers.Dense(64, activation='relu'),\n",
    "    layers.Dense(10, activation='softmax') #softmax always make sum of the output probability =1\n",
    "\n",
    "\n",
    "])"
   ]
  },
  {
   "cell_type": "code",
   "execution_count": null,
   "id": "c6c0773b",
   "metadata": {},
   "outputs": [],
   "source": [
    "cnn.compile(optimizer='adam',\n",
    "              loss='sparse_categorical_crossentropy',\n",
    "              metrics=['accuracy'])"
   ]
  },
  {
   "cell_type": "code",
   "execution_count": null,
   "id": "a62dcc0b",
   "metadata": {},
   "outputs": [],
   "source": [
    "cnn.fit(X_train, y_train, epochs=10)"
   ]
  },
  {
   "cell_type": "code",
   "execution_count": null,
   "id": "43d7386c",
   "metadata": {},
   "outputs": [],
   "source": [
    "With CNN, at the end 5 epochs, accuracy was at around 70% which is a significant improvement over ANN. CNN's are best for image classification and gives superb accuracy. Also computation is much less compared to simple ANN as maxpooling reduces the image dimensions while still preserving the features"
   ]
  },
  {
   "cell_type": "code",
   "execution_count": null,
   "id": "fa3934d8",
   "metadata": {},
   "outputs": [],
   "source": [
    "cnn.evaluate(X_test,y_test)"
   ]
  },
  {
   "cell_type": "code",
   "execution_count": null,
   "id": "7a3183f0",
   "metadata": {},
   "outputs": [],
   "source": [
    "y_pred = cnn.predict(X_test)\n",
    "y_pred[:5]"
   ]
  },
  {
   "cell_type": "code",
   "execution_count": null,
   "id": "7c46538b",
   "metadata": {},
   "outputs": [],
   "source": [
    "y_classes = [np.argmax(element) for element in y_pred]\n",
    "y_classes[:5]"
   ]
  },
  {
   "cell_type": "code",
   "execution_count": null,
   "id": "9d6a48a8",
   "metadata": {},
   "outputs": [],
   "source": [
    "y_test[:5]"
   ]
  },
  {
   "cell_type": "code",
   "execution_count": null,
   "id": "6c8dea02",
   "metadata": {},
   "outputs": [],
   "source": [
    "y_test=y_test.reshape(-1,)"
   ]
  },
  {
   "cell_type": "code",
   "execution_count": null,
   "id": "35bbafc9",
   "metadata": {},
   "outputs": [],
   "source": [
    "plot_sample(X_test,y_test,5)"
   ]
  },
  {
   "cell_type": "code",
   "execution_count": null,
   "id": "ffe917fa",
   "metadata": {},
   "outputs": [],
   "source": [
    "classes[y_classes[3]]"
   ]
  },
  {
   "cell_type": "code",
   "execution_count": null,
   "id": "b61f8308",
   "metadata": {},
   "outputs": [],
   "source": [
    "classes[y_classes[3]]"
   ]
  },
  {
   "cell_type": "code",
   "execution_count": null,
   "id": "465efbe9",
   "metadata": {},
   "outputs": [],
   "source": []
  },
  {
   "cell_type": "code",
   "execution_count": null,
   "id": "479e652c",
   "metadata": {},
   "outputs": [],
   "source": []
  }
 ],
 "metadata": {
  "kernelspec": {
   "display_name": "Python 3",
   "language": "python",
   "name": "python3"
  },
  "language_info": {
   "codemirror_mode": {
    "name": "ipython",
    "version": 3
   },
   "file_extension": ".py",
   "mimetype": "text/x-python",
   "name": "python",
   "nbconvert_exporter": "python",
   "pygments_lexer": "ipython3",
   "version": "3.6.13"
  }
 },
 "nbformat": 4,
 "nbformat_minor": 5
}
